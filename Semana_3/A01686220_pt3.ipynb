{
  "metadata": {
    "language_info": {
      "codemirror_mode": {
        "name": "python",
        "version": 3
      },
      "file_extension": ".py",
      "mimetype": "text/x-python",
      "name": "python",
      "nbconvert_exporter": "python",
      "pygments_lexer": "ipython3",
      "version": "3.8"
    },
    "kernelspec": {
      "name": "python",
      "display_name": "Python (Pyodide)",
      "language": "python"
    }
  },
  "nbformat_minor": 4,
  "nbformat": 4,
  "cells": [
    {
      "cell_type": "code",
      "source": "#Araceli Olarte Ledezma\n#A01686220\n",
      "metadata": {
        "trusted": true
      },
      "execution_count": 1,
      "outputs": []
    },
    {
      "cell_type": "code",
      "source": "\n#Parte 3: Preparación de los datos\n\"\"\"\nCon base en los resultados de tu libreta de Google Colab de la Parte 2 responde detalladamente las siguientes preguntas: \n\"\"\"\n\n#•\t¿Qué datos considero más importantes? ¿Por qué?\n\"\"\"\nConsidero que todos los datos de gran valor, sin embargo, los datos como el monto otorgado, el historial de pagos, la edad \ny la educación pueden apoyar con una predicción más detallada con el comportamiento de los créditos, riesgos al otorgarlos y comportamiento \ndel solicitante de acuerdo con su educación y edad permitiendo hacer un analisis de riesgos y otorgando mayores montos a sus clientes con un buen historial.\n\"\"\"\n#•\t¿Se eliminaron o reemplazaron datos nulos? ¿Qué se hizo y por qué?\n\"\"\"\nSe eliminaron registros nulos para observar el comportamiento de la base con la finalidad de procesar información estratégica \nque pueda dar predicciones más exactas sin valores basura. Cuando  un conjunto de datos se compone de valores nulos la exactitud de las predicciones es casi \nnula ya que sin información no puede existir un procesamiento o analisis correcto. \n\"\"\"\n#•\t¿Es necesario ordenar los datos para el análisis? Sí / No / ¿Por qué?\n\"\"\"\n•\tSí, ya que, aunque se pueden consultar los valores es más fácil visualizar información ordenada dándonos a siempre vista \nla tendencia hacia donde van los datos, valores mayores, menores etc. \n\"\"\"\n#•\t¿Existen problemas de formato que deban solucionar antes del proceso de modelado? Sí / No / Por qué.\n\"\"\"\nSí , ya que antes de cargar la información se debe poner en un formato para que no se pierda o muevan filas \no columnas  también  al ser cargada en  el IDE las columnas se mueven por tener más del rango permitido con el cual se \ndebe hacer una configuración de un mínimo y máximo además de tener un formato muy simple. \n\"\"\"\n#•\t¿Qué ajustes se realizaron en el proceso de limpieza de datos (agregar, integrar, eliminar, modificar registros (filas), cambiar atributos (columnas)?\n\"\"\"\nSe modificaron atributos, extensión de columnas y renglones, se elimino información y se Integró para observar columnas en específico, se observo el movimiento de \nlas columnas, información y procesamiento de la base la cual fue más compleja de tratar por los nombres de las columnas los cuales no son predictivos y \nla extensión de la infromación procesada en consola. \n\"\"\"\n",
      "metadata": {},
      "execution_count": null,
      "outputs": []
    }
  ]
}