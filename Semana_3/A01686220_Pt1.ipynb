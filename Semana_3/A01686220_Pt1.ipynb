{
  "metadata": {
    "language_info": {
      "codemirror_mode": {
        "name": "python",
        "version": 3
      },
      "file_extension": ".py",
      "mimetype": "text/x-python",
      "name": "python",
      "nbconvert_exporter": "python",
      "pygments_lexer": "ipython3",
      "version": "3.8"
    },
    "kernelspec": {
      "name": "python",
      "display_name": "Python (Pyodide)",
      "language": "python"
    }
  },
  "nbformat_minor": 4,
  "nbformat": 4,
  "cells": [
    {
      "cell_type": "code",
      "source": "#Araceli Olarte Ledezma\n#A01686220",
      "metadata": {
        "trusted": true
      },
      "execution_count": 1,
      "outputs": []
    },
    {
      "cell_type": "code",
      "source": "\"\"\"\nRevisa la página Lecturas del tema 3: \nConceptos de almacenamiento y recuperación de información, y describe tus insights o entendimiento de cada uno de los subtemas:\n\"\"\"\n\n#•\tFundamentos de bases de datos y para ciencia de datos.  \n\"\"\"\nLas bases de datos se pueden definir como recopilación de datos las cuales pueden ser estructuradas y relacionales, \ncon estás se puede hacer un procesamiento de datos para obtener información específica y procesada, ahí entra el concepto de ciencia de datos.\nLa ciencia de datos ayuda a la extracción de datos para obtener información acerca de algo, como análisis estadísticos; A partir de las cuales se pueden definir estrategias y tomar decisiones de alto impacto con menor riesgo. La ciencia de datos es un área en la cual no solo se procesa información, si no también es para obtener conocimiento especifico de una manera analítica con base en evidencias o muestreo de información de cualquier tema, producto o servicio pudiendo ser aplicada en áreas de ventas, de la salud, matemáticas etc.\nLa ciencia de datos tiene un enfoque más holístico ya que se pueden procesar grandes volúmenes de datos para obtener información, tomar decisiones y plantear estrategias con base en el conocimiento obtenido.    \n\"\"\"\n#•\tFundamentos de almacenes de datos (Data Warehouse) para ciencia de datos.\n\"\"\"\nData warehouse se define como un almacén de grandes datos o una colección de información la cual es utilizada mayormente en inteligencia de negocios\nsoportando análisis de la información a partir de las cuales se definen estrategias y toma de decisiones basadas en el procesamiento\ny manejo de está información. Actualmente las grandes empresas buscan un procesamiento de su información de una manera más inteligente \ncomo el uso de (OLAP) el cual es una tecnología comúnmente utilizada en grandes datos. Un Data warehouse a menudo es utilizado por las empresas\nya que da una visión estratégica a cerca de  su estado mostrando su comportamiento de acuerdo con la información obtenida previendo riesgos \ntomando  nuevas estrategias comerciales que mejoren la operación  así como ofertar o retirar un producto o servicio de acuerdo con el \ncomportamiento de los consumidores manteniéndose competitivas y con un alto nivel de madurez tecnológica.  \n\"\"\"",
      "metadata": {
        "trusted": true
      },
      "execution_count": 2,
      "outputs": [
        {
          "execution_count": 2,
          "output_type": "execute_result",
          "data": {
            "text/plain": "'\\nData warehouse se define como un almacén de grandes datos o una colección de información la cual es utilizada mayormente en inteligencia de negocios\\nsoportando análisis de la información a partir de las cuales se definen estrategias y toma de decisiones basadas en el procesamiento\\ny manejo de está información. Actualmente las grandes empresas buscan un procesamiento de su información de una manera más inteligente \\ncomo el uso de (OLAP) el cual es una tecnología comúnmente utilizada en grandes datos. Un Data warehouse a menudo es utilizado por las empresas\\nya que da una visión estratégica a cerca de  su estado mostrando su comportamiento de acuerdo con la información obtenida previendo riesgos \\ntomando  nuevas estrategias comerciales que mejoren la operación  así como ofertar o retirar un producto o servicio de acuerdo con el \\ncomportamiento de los consumidores manteniéndose competitivas y con un alto nivel de madurez tecnológica.  \\n'"
          },
          "metadata": {}
        }
      ]
    },
    {
      "cell_type": "code",
      "source": "",
      "metadata": {},
      "execution_count": null,
      "outputs": []
    }
  ]
}