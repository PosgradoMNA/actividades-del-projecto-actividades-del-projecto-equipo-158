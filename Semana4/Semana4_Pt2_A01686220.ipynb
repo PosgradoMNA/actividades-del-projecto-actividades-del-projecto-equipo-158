{
 "cells": [
  {
   "cell_type": "code",
   "execution_count": 2,
   "id": "b4a3ce21-ef4e-46a5-8947-a616ec6c17bf",
   "metadata": {},
   "outputs": [],
   "source": [
    "#Araceli Olarte Ledezma\n",
    "#A01686220\n"
   ]
  },
  {
   "cell_type": "code",
   "execution_count": null,
   "id": "387fd675-b6fa-4390-aff4-82f4d5ae0736",
   "metadata": {},
   "outputs": [],
   "source": [
    "\n",
    "#Parte 2: Responde las siguientes preguntas en una celda de texto en Jupyter Notebook\n",
    "\n",
    "#¿Cuál es el número de componentes mínimo y por qué?\n",
    "\"\"\"\n",
    "El número de componentes minimo son dos ya que para hacer un correcto procesamiento de datos y comparativa entre esllos es necesario tener al menos dos variables a trabajar. \n",
    "En el caso de bases grandes entre \n",
    "mayor número de componentes más especifica será la información.\n",
    "\"\"\"\n",
    "#¿Cuál es la variación de los datos que representan esos componentes?\n",
    "\"\"\"\n",
    "En el caso de la base ejemplo existe una variación amplia entre las columnas e información por ejemplo en este caso se realiza una evaluación de el credito otorgado y el rango de edad de cliente.\n",
    "Cada componente es importante sin embargo se debe ser cuidadoso en las variables seleccionadas para obtener los resultados que necesitamos.\n",
    "\"\"\"\n",
    "#¿Cuál es la pérdida de información después de realizar PCA?\n",
    "\"\"\"\n",
    "la reducción de información es notable sin embargo simplifica el procesamiento y manejo de los datos para obtener variables como el minimo, maximo y varianza entre ellos. \n",
    "\"\"\"\n",
    "#De las variables originales, ¿Cuál tiene mayor y cuál tiene menor importancia en los componentes principales?\n",
    "\"\"\"\n",
    "La variable con mayor importancia en la base tratada además del indice es el monto de credito otorgado y su historia de pagos. \n",
    "\"\"\"\n",
    "#¿Cuándo se recomienda realizar un PCA y qué beneficios ofrece para Machine Learning?\n",
    "\"\"\"\n",
    "Se recomienda realizar PCA cuando la base de datos contiene multiples elementos permitiendo hacer una reducción de elementos clave, conservando información relevante de está manera la complejidad de\n",
    "su tratamiento será menor y prodran realizarse prediccones más viables con el conjunto de datos.  Los beneficios que ofrece para machine learning son la carga de menor información, normalización de datos, hacer predicciones\n",
    "con los elementos seleccionados y automatizarlos.\n",
    "\"\"\""
   ]
  }
 ],
 "metadata": {
  "kernelspec": {
   "display_name": "Python 3 (ipykernel)",
   "language": "python",
   "name": "python3"
  },
  "language_info": {
   "codemirror_mode": {
    "name": "ipython",
    "version": 3
   },
   "file_extension": ".py",
   "mimetype": "text/x-python",
   "name": "python",
   "nbconvert_exporter": "python",
   "pygments_lexer": "ipython3",
   "version": "3.9.12"
  }
 },
 "nbformat": 4,
 "nbformat_minor": 5
}
