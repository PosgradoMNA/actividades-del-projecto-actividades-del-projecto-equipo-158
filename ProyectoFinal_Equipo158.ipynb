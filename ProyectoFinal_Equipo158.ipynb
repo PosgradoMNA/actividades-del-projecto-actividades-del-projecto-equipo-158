{
  "metadata": {
    "language_info": {
      "codemirror_mode": {
        "name": "python",
        "version": 3
      },
      "file_extension": ".py",
      "mimetype": "text/x-python",
      "name": "python",
      "nbconvert_exporter": "python",
      "pygments_lexer": "ipython3",
      "version": "3.8"
    },
    "kernelspec": {
      "name": "python",
      "display_name": "Python (Pyodide)",
      "language": "python"
    }
  },
  "nbformat_minor": 4,
  "nbformat": 4,
  "cells": [
    {
      "cell_type": "code",
      "source": "#Araceli Olarte Ledezma \n#Equipo 158\n#Matricula A01686220",
      "metadata": {
        "trusted": true
      },
      "execution_count": 1,
      "outputs": []
    },
    {
      "cell_type": "code",
      "source": "#Ruta: http://www.aire.cdmx.gob.mx/default.php?opc=%27aKBh%27",
      "metadata": {
        "trusted": true
      },
      "execution_count": 3,
      "outputs": []
    },
    {
      "cell_type": "code",
      "source": "# El nombre que caracteriza el conjunto de datos.\n\"\"\"\nRed Automática de Monitoreo Atmosférico (RADIACIÓN)\n\n\"\"\"",
      "metadata": {
        "trusted": true
      },
      "execution_count": 6,
      "outputs": [
        {
          "execution_count": 6,
          "output_type": "execute_result",
          "data": {
            "text/plain": "'\\nRed Automática de Monitoreo Atmosférico (RADIACIÓN)\\nRed Automática de Monitoreo Atmosférico (RADIACIÓN)\\nRed Automática de Monitoreo Atmosférico (RADIACIÓN)\\nRed Automática de Monitoreo Atmosférico (RADIACIÓN)\\nRed Automática de Monitoreo Atmosférico (RADIACIÓN)\\nRed Automática de Monitoreo Atmosférico (RADIACIÓN)\\nRed Automática de Monitoreo Atmosférico (RADIACIÓN)\\nRed Automática de Monitoreo Atmosférico (RADIACIÓN)\\nRed Automática de Monitoreo Atmosférico (RADIACIÓN)\\nRed Automática de Monitoreo Atmosférico (RADIACIÓN)\\n'"
          },
          "metadata": {}
        }
      ]
    },
    {
      "cell_type": "code",
      "source": "\n#La organización que lo generó.\n\"\"\"\n•\tGobierno de la ciudad de México\n\"\"\"\n#Incluya un enlace de Internet donde se puedan descargar el base de datos en línea\n\"\"\"\nhttp://www.aire.cdmx.gob.mx/default.php?opc=%27aKBm%27\n\"\"\"",
      "metadata": {
        "trusted": true
      },
      "execution_count": 7,
      "outputs": [
        {
          "execution_count": 7,
          "output_type": "execute_result",
          "data": {
            "text/plain": "'\\nhttp://www.aire.cdmx.gob.mx/default.php?opc=%27aKBm%27\\n'"
          },
          "metadata": {}
        }
      ]
    },
    {
      "cell_type": "code",
      "source": "#Describe el conjunto de datos. ¿Qué datos contiene?\n\"\"\"\nContiene un conjunto de datos estadísticos de calidad del aire en la ciudad de México como:\n•\tEmisión de radiación UV-A y UV-B\n•\tRed Automática de monitoreo atmosférico\n•\tMeteorología y radiación solar\n•\tRed de depósito atmosférico\n•\tRadiación  \n\"\"\"",
      "metadata": {
        "trusted": true
      },
      "execution_count": 8,
      "outputs": [
        {
          "execution_count": 8,
          "output_type": "execute_result",
          "data": {
            "text/plain": "'\\nContiene un conjunto de datos estadísticos de calidad del aire en la ciudad de México como:\\n•\\tEmisión de radiación UV-A y UV-B\\n•\\tRed Automática de monitoreo atmosférico\\n•\\tMeteorología y radiación solar\\n•\\tRed de depósito atmosférico\\n•\\tRadiación  \\n'"
          },
          "metadata": {}
        }
      ]
    },
    {
      "cell_type": "code",
      "source": "\n#¿Cuáles son algunas de las preguntas de investigación que podría responder con estos datos? Enumere al menos OCHO (no responda las preguntas).\n\"\"\"\n1.\t¿Qué estación localizada en la ciudad de México presente mayor partículas de plomo en el aire?\n2.\t¿Cuál es el nivel de azufre en el aire en el año 2022?\n3.\t¿Ha incrementado la radiación UV-a y UV-B en los últimos 5 años?\n4.\t¿Qué localidad de la ciudad representa mayor índice de lluvia acida causada por dióxido de azufre (so2)\n5.\t¿Cuál ha sido la mayor presión atmosférica en las últimas mediciones registradas?\n6.\t¿De acuerdo con los datos que estación registra un índice más alto de Monóxido de Carbono (co2)?\n7.\t¿Cuál es el valor máximo de ozono registrado en la ciudad de México?\n8.\t¿Cuál es la medición más elevada de partículas suspendidas y en que localidad tienen mayor probabilidad de daños a la salud?\n9.\t¿Existe una relación entre el aumento de la radiación ultravioleta de acuerdo con las horas del día?\n10.\t¿Qué localidad de la ciudad de México presenta la mejor calidad en el aire?\n\"\"\"",
      "metadata": {},
      "execution_count": null,
      "outputs": []
    },
    {
      "cell_type": "code",
      "source": "\n#¿Qué actor (empresa, sector de la sociedad, organismo descentralizado, gobierno, etc.) estaría interesado en las preguntas mencionadas que identificó?\n\"\"\"\n•\tEl gobierno de la ciudad de México \n•\tSEMARNAT\n•\tAgencia de Seguridad, Energía y Ambiente (ASEA)\n•\tInstituto Nacional de Ecología y Cambio Climático (INECC)\n•\tProcuraduría Federal de Protección al Ambiente (PROFEPA)\n\"\"\"",
      "metadata": {},
      "execution_count": null,
      "outputs": []
    },
    {
      "cell_type": "code",
      "source": "#Referencias: \n\"\"\"\n•\tCalidad del aire. (s. f.). Gobierno de la ciudad de México. Recuperado 25 septiembre de 2022, de http://www.aire.cdmx.gob.mx/default.php?opc=%27aKBm%27\n•\tDOF. Ley General para la Prevención y Gestión Integral de Residuos. DOF. México. 2003 (8 de octubre).\n•\tINEGI. Censo Nacional de Gobiernos Municipales y Delegacionales 2011 (CNGMD). INEGI. México. 2013.\n•\tSemarnat. Informe de la Situación del Medio Ambiente en México. Edición 2012. Semarnat. México. 2013\n\"\"\"",
      "metadata": {},
      "execution_count": null,
      "outputs": []
    },
    {
      "cell_type": "code",
      "source": "\"\"\"\nimport csv\n \nwith open('C:\\Users\\olart\\Downloads\\Bases de datos\\2019CAH.csv', 'r') as f:\n    reader = csv.reader(f)\n    for row in reader:\n        print(row)\n\"\"\"",
      "metadata": {},
      "execution_count": null,
      "outputs": []
    }
  ]
}